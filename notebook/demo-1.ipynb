{
 "cells": [
  {
   "cell_type": "code",
   "execution_count": 1,
   "metadata": {},
   "outputs": [
    {
     "name": "stdout",
     "output_type": "stream",
     "text": [
      "c:\\Users\\dshem\\OneDrive\\Desktop\\projects\\project-1\\HPP-1\\notebook\n"
     ]
    }
   ],
   "source": [
    "import os\n",
    "\n",
    "print(os.getcwd())"
   ]
  },
  {
   "cell_type": "code",
   "execution_count": 4,
   "metadata": {},
   "outputs": [
    {
     "data": {
      "text/plain": [
       "'c:\\\\Users\\\\dshem\\\\OneDrive\\\\Desktop\\\\projects\\\\project-1\\\\HPP-1'"
      ]
     },
     "execution_count": 4,
     "metadata": {},
     "output_type": "execute_result"
    }
   ],
   "source": [
    "os.chdir(r'c:\\Users\\dshem\\OneDrive\\Desktop\\projects\\project-1\\HPP-1')\n",
    "os.getcwd()\n"
   ]
  },
  {
   "cell_type": "code",
   "execution_count": 1,
   "metadata": {},
   "outputs": [
    {
     "ename": "HousingException",
     "evalue": "error occure in the script : [c:\\users\\dshem\\onedrive\\desktop\\projects\\project-1\\hpp-1\\Housing\\config\\configuration.py]\n        at try block line number : [15]\n        and exception_block line number : [19]\n        error message : [error occure in the script : [c:\\users\\dshem\\onedrive\\desktop\\projects\\project-1\\hpp-1\\Housing\\utils\\util.py]\n        at try block line number : [11]\n        and exception_block line number : [14]\n        error message : [[Errno 2] No such file or directory: 'c:\\\\Users\\\\dshem\\\\OneDrive\\\\Desktop\\\\projects\\\\project-1\\\\HPP-1\\\\notebook\\\\config\\\\config.yaml'].\n        ].\n        ",
     "output_type": "error",
     "traceback": [
      "\u001b[1;31m---------------------------------------------------------------------------\u001b[0m",
      "\u001b[1;31mFileNotFoundError\u001b[0m                         Traceback (most recent call last)",
      "File \u001b[1;32mc:\\users\\dshem\\onedrive\\desktop\\projects\\project-1\\hpp-1\\Housing\\utils\\util.py:11\u001b[0m, in \u001b[0;36mread_yaml_file\u001b[1;34m(file_path)\u001b[0m\n\u001b[0;32m     10\u001b[0m \u001b[38;5;28;01mtry\u001b[39;00m:\n\u001b[1;32m---> 11\u001b[0m     \u001b[38;5;28;01mwith\u001b[39;00m \u001b[38;5;28;43mopen\u001b[39;49m\u001b[43m(\u001b[49m\u001b[43mfile_path\u001b[49m\u001b[43m,\u001b[49m\u001b[38;5;124;43m\"\u001b[39;49m\u001b[38;5;124;43mrb\u001b[39;49m\u001b[38;5;124;43m\"\u001b[39;49m\u001b[43m)\u001b[49m \u001b[38;5;28;01mas\u001b[39;00m f:\n\u001b[0;32m     12\u001b[0m         \u001b[38;5;28;01mreturn\u001b[39;00m yaml\u001b[38;5;241m.\u001b[39msafe_load(f)\n",
      "\u001b[1;31mFileNotFoundError\u001b[0m: [Errno 2] No such file or directory: 'c:\\\\Users\\\\dshem\\\\OneDrive\\\\Desktop\\\\projects\\\\project-1\\\\HPP-1\\\\notebook\\\\config\\\\config.yaml'",
      "\nThe above exception was the direct cause of the following exception:\n",
      "\u001b[1;31mHousingException\u001b[0m                          Traceback (most recent call last)",
      "File \u001b[1;32mc:\\users\\dshem\\onedrive\\desktop\\projects\\project-1\\hpp-1\\Housing\\config\\configuration.py:15\u001b[0m, in \u001b[0;36mConfiguration.__init__\u001b[1;34m(self, config_file_path, time_stamp)\u001b[0m\n\u001b[0;32m     14\u001b[0m \u001b[38;5;28;01mtry\u001b[39;00m:\n\u001b[1;32m---> 15\u001b[0m     \u001b[38;5;28mself\u001b[39m\u001b[38;5;241m.\u001b[39mconfig_info\u001b[38;5;241m=\u001b[39m\u001b[43mread_yaml_file\u001b[49m\u001b[43m(\u001b[49m\u001b[43mfile_path\u001b[49m\u001b[38;5;241;43m=\u001b[39;49m\u001b[43mconfig_file_path\u001b[49m\u001b[43m)\u001b[49m\n\u001b[0;32m     16\u001b[0m     \u001b[38;5;28mself\u001b[39m\u001b[38;5;241m.\u001b[39mtime_stamp\u001b[38;5;241m=\u001b[39mtime_stamp\n",
      "File \u001b[1;32mc:\\users\\dshem\\onedrive\\desktop\\projects\\project-1\\hpp-1\\Housing\\utils\\util.py:14\u001b[0m, in \u001b[0;36mread_yaml_file\u001b[1;34m(file_path)\u001b[0m\n\u001b[0;32m     13\u001b[0m \u001b[38;5;28;01mexcept\u001b[39;00m \u001b[38;5;167;01mException\u001b[39;00m \u001b[38;5;28;01mas\u001b[39;00m e:\n\u001b[1;32m---> 14\u001b[0m     \u001b[38;5;28;01mraise\u001b[39;00m HousingException(e,sys) \u001b[38;5;28;01mfrom\u001b[39;00m \u001b[38;5;21;01me\u001b[39;00m\n",
      "\u001b[1;31mHousingException\u001b[0m: error occure in the script : [c:\\users\\dshem\\onedrive\\desktop\\projects\\project-1\\hpp-1\\Housing\\utils\\util.py]\n        at try block line number : [11]\n        and exception_block line number : [14]\n        error message : [[Errno 2] No such file or directory: 'c:\\\\Users\\\\dshem\\\\OneDrive\\\\Desktop\\\\projects\\\\project-1\\\\HPP-1\\\\notebook\\\\config\\\\config.yaml'].\n        ",
      "\nThe above exception was the direct cause of the following exception:\n",
      "\u001b[1;31mHousingException\u001b[0m                          Traceback (most recent call last)",
      "Cell \u001b[1;32mIn[1], line 2\u001b[0m\n\u001b[0;32m      1\u001b[0m \u001b[38;5;28;01mfrom\u001b[39;00m \u001b[38;5;21;01mHousing\u001b[39;00m\u001b[38;5;21;01m.\u001b[39;00m\u001b[38;5;21;01mconfig\u001b[39;00m\u001b[38;5;21;01m.\u001b[39;00m\u001b[38;5;21;01mconfiguration\u001b[39;00m \u001b[38;5;28;01mimport\u001b[39;00m Configuration\n\u001b[1;32m----> 2\u001b[0m config\u001b[38;5;241m=\u001b[39m\u001b[43mConfiguration\u001b[49m\u001b[43m(\u001b[49m\u001b[43m)\u001b[49m\n\u001b[0;32m      3\u001b[0m config_1\u001b[38;5;241m=\u001b[39mconfig\u001b[38;5;241m.\u001b[39mget_data_validation_config()\n\u001b[0;32m      4\u001b[0m \u001b[38;5;28mprint\u001b[39m(config_1\u001b[38;5;241m.\u001b[39mschema_file_path)\n",
      "File \u001b[1;32mc:\\users\\dshem\\onedrive\\desktop\\projects\\project-1\\hpp-1\\Housing\\config\\configuration.py:19\u001b[0m, in \u001b[0;36mConfiguration.__init__\u001b[1;34m(self, config_file_path, time_stamp)\u001b[0m\n\u001b[0;32m     17\u001b[0m     \u001b[38;5;28mself\u001b[39m\u001b[38;5;241m.\u001b[39mtraining_pipeline_config\u001b[38;5;241m=\u001b[39m\u001b[38;5;28mself\u001b[39m\u001b[38;5;241m.\u001b[39mget_training_pipeline_config()\n\u001b[0;32m     18\u001b[0m \u001b[38;5;28;01mexcept\u001b[39;00m \u001b[38;5;167;01mException\u001b[39;00m \u001b[38;5;28;01mas\u001b[39;00m e:\n\u001b[1;32m---> 19\u001b[0m     \u001b[38;5;28;01mraise\u001b[39;00m HousingException(e,sys) \u001b[38;5;28;01mfrom\u001b[39;00m \u001b[38;5;21;01me\u001b[39;00m\n",
      "\u001b[1;31mHousingException\u001b[0m: error occure in the script : [c:\\users\\dshem\\onedrive\\desktop\\projects\\project-1\\hpp-1\\Housing\\config\\configuration.py]\n        at try block line number : [15]\n        and exception_block line number : [19]\n        error message : [error occure in the script : [c:\\users\\dshem\\onedrive\\desktop\\projects\\project-1\\hpp-1\\Housing\\utils\\util.py]\n        at try block line number : [11]\n        and exception_block line number : [14]\n        error message : [[Errno 2] No such file or directory: 'c:\\\\Users\\\\dshem\\\\OneDrive\\\\Desktop\\\\projects\\\\project-1\\\\HPP-1\\\\notebook\\\\config\\\\config.yaml'].\n        ].\n        "
     ]
    }
   ],
   "source": [
    "from Housing.config.configuration import Configuration\n",
    "config=Configuration()\n",
    "config_1=config.get_data_validation_config()\n",
    "print(config_1.schema_file_path)"
   ]
  },
  {
   "cell_type": "code",
   "execution_count": null,
   "metadata": {},
   "outputs": [],
   "source": []
  }
 ],
 "metadata": {
  "kernelspec": {
   "display_name": "Python 3",
   "language": "python",
   "name": "python3"
  },
  "language_info": {
   "codemirror_mode": {
    "name": "ipython",
    "version": 3
   },
   "file_extension": ".py",
   "mimetype": "text/x-python",
   "name": "python",
   "nbconvert_exporter": "python",
   "pygments_lexer": "ipython3",
   "version": "3.11.5"
  }
 },
 "nbformat": 4,
 "nbformat_minor": 2
}
